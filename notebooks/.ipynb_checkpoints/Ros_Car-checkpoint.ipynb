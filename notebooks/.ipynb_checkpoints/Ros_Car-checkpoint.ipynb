{
 "cells": [
  {
   "cell_type": "code",
   "execution_count": 1,
   "id": "af5f76b4-5513-4933-8c0d-8db86319cc0b",
   "metadata": {},
   "outputs": [
    {
     "name": "stdout",
     "output_type": "stream",
     "text": [
      "/root/catkin_ws\n",
      "/usr/bin/sh: 1: catkin_make: not found\n"
     ]
    }
   ],
   "source": [
    "%cd ~/catkin_ws\n",
    "!catkin_make\n"
   ]
  },
  {
   "cell_type": "code",
   "execution_count": 8,
   "id": "d1219a6a-2b3d-4e85-a540-3ba349ca920f",
   "metadata": {},
   "outputs": [],
   "source": [
    "!bash -c \"source ~/catkin_ws/devel/setup.bash\"\n"
   ]
  },
  {
   "cell_type": "markdown",
   "id": "c6095c5b-3602-487b-9cac-3def702bb9d1",
   "metadata": {},
   "source": [
    "Attach to a /bin/bash shell of the docker container and lauch \n",
    "<code>roscore</code>\n",
    "to start the ros environment"
   ]
  },
  {
   "cell_type": "markdown",
   "id": "f92e221b-72da-41ad-b868-867f0941710d",
   "metadata": {
    "scrolled": true
   },
   "source": [
    "<code>roslaunch rplidar_ros rplidar.launch</code>\n",
    "\n",
    "\n",
    "Attach to a /bin/bash shell of the docker container and run this command to start the RPLidar node to be able to gather data from the LiDAR"
   ]
  },
  {
   "cell_type": "code",
   "execution_count": 1,
   "id": "0f5740ac-b919-4a30-9c8c-1bccc700e947",
   "metadata": {},
   "outputs": [
    {
     "name": "stdout",
     "output_type": "stream",
     "text": [
      "/rosout\n",
      "/rosout_agg\n",
      "/scan\n"
     ]
    }
   ],
   "source": [
    "%%bash \n",
    "source /opt/ros/noetic/setup.bash\n",
    "source ~/catkin_ws/devel/setup.bash\n",
    "rostopic list"
   ]
  },
  {
   "cell_type": "code",
   "execution_count": 4,
   "id": "7edab6d0-8032-450a-8d1a-2b2fbc7fa5be",
   "metadata": {},
   "outputs": [],
   "source": [
    "import rospy\n",
    "from sensor_msgs.msg import LaserScan\n",
    "import numpy as np\n",
    "import matplotlib.pyplot as plt\n",
    "\n",
    "# Initialize ROS node\n",
    "rospy.init_node('rplidar_test_node', anonymous=True)\n",
    "\n",
    "# Data storage\n",
    "lidar_ranges = []\n",
    "\n",
    "# Callback function to process data\n",
    "def lidar_callback(data):\n",
    "    global lidar_ranges\n",
    "    lidar_ranges = data.ranges\n",
    "\n",
    "# Subscriber object\n",
    "lidar_subscriber = rospy.Subscriber('/scan', LaserScan, lidar_callback)\n"
   ]
  },
  {
   "cell_type": "code",
   "execution_count": null,
   "id": "822e710a-136a-452c-af21-a27207976597",
   "metadata": {},
   "outputs": [],
   "source": []
  },
  {
   "cell_type": "code",
   "execution_count": 5,
   "id": "6ba1634e-2ea3-4736-8669-6973ea040b9e",
   "metadata": {},
   "outputs": [
    {
     "data": {
      "image/png": "[encoded data removed]",
      "text/plain": [
       "<Figure size 600x600 with 1 Axes>"
      ]
     },
     "metadata": {},
     "output_type": "display_data"
    }
   ],
   "source": [
    "import numpy as np\n",
    "import matplotlib.pyplot as plt\n",
    "\n",
    "def plot_lidar(ranges):\n",
    "    # Filter out invalid measurements\n",
    "    valid_ranges = np.array(ranges)\n",
    "    valid_ranges[~np.isfinite(valid_ranges)] = 0  # Replace 'inf' and 'nan' with 0\n",
    "    \n",
    "    # Calculate angles based on valid_ranges length\n",
    "    angles = np.linspace(0, 2 * np.pi, len(valid_ranges))\n",
    "    \n",
    "    # Convert polar coordinates to Cartesian coordinates\n",
    "    x = np.sin(angles) * valid_ranges\n",
    "    y = np.cos(angles) * valid_ranges\n",
    "    \n",
    "    # Create the plot\n",
    "    plt.figure(figsize=(6, 6))\n",
    "    \n",
    "    # Plot the LiDAR points\n",
    "    plt.plot(x, y, '.')\n",
    "    \n",
    "    # Plot a red dot in the center to represent the LiDAR sensor\n",
    "    plt.plot(0, 0, 'ro')\n",
    "    \n",
    "    # Add an arrow to indicate the front of the LiDAR\n",
    "    plt.arrow(0, 0, np.sin(0), np.cos(0), head_width=0.5, head_length=0.5, fc='g', ec='g')\n",
    "    \n",
    "    # Set equal aspect ratio and plot limits\n",
    "    plt.axis('equal')\n",
    "    plt.xlim(-10, 10)\n",
    "    plt.ylim(-10, 10)\n",
    "    \n",
    "    # Add grid, labels, and title\n",
    "    plt.grid(True)\n",
    "    plt.xlabel('X distance (m)')\n",
    "    plt.ylabel('Y distance (m)')\n",
    "    plt.title('LiDAR data visualization')\n",
    "    \n",
    "    # Show the plot\n",
    "    plt.show()\n",
    "plot_lidar(lidar_ranges)\n"
   ]
  },
  {
   "cell_type": "code",
   "execution_count": 3,
   "id": "0c24c107-8b16-4a25-aa54-7c3195d8478a",
   "metadata": {},
   "outputs": [
    {
     "ename": "KeyboardInterrupt",
     "evalue": "",
     "output_type": "error",
     "traceback": [
      "\u001b[0;31m---------------------------------------------------------------------------\u001b[0m",
      "\u001b[0;31mKeyboardInterrupt\u001b[0m                         Traceback (most recent call last)",
      "Cell \u001b[0;32mIn[3], line 42\u001b[0m\n\u001b[1;32m     39\u001b[0m             rate\u001b[38;5;241m.\u001b[39msleep()  \u001b[38;5;66;03m# Sleep for 2 seconds (or until a new message is received)\u001b[39;00m\n\u001b[1;32m     41\u001b[0m \u001b[38;5;66;03m# Call the function to start updating the plot\u001b[39;00m\n\u001b[0;32m---> 42\u001b[0m \u001b[43mupdate_lidar_plot\u001b[49m\u001b[43m(\u001b[49m\u001b[43m)\u001b[49m\n",
      "Cell \u001b[0;32mIn[3], line 38\u001b[0m, in \u001b[0;36mupdate_lidar_plot\u001b[0;34m()\u001b[0m\n\u001b[1;32m     36\u001b[0m \u001b[38;5;28;01mif\u001b[39;00m \u001b[38;5;28mlen\u001b[39m(lidar_ranges) \u001b[38;5;241m>\u001b[39m \u001b[38;5;241m0\u001b[39m:  \u001b[38;5;66;03m# Check if lidar_ranges is not empty by its length\u001b[39;00m\n\u001b[1;32m     37\u001b[0m     clear_output(wait\u001b[38;5;241m=\u001b[39m\u001b[38;5;28;01mTrue\u001b[39;00m)  \u001b[38;5;66;03m# Clear the previous plot\u001b[39;00m\n\u001b[0;32m---> 38\u001b[0m     \u001b[43mplot_lidar\u001b[49m\u001b[43m(\u001b[49m\u001b[43mlidar_ranges\u001b[49m\u001b[43m)\u001b[49m  \u001b[38;5;66;03m# Plot the latest LiDAR data\u001b[39;00m\n\u001b[1;32m     39\u001b[0m     rate\u001b[38;5;241m.\u001b[39msleep()\n",
      "Cell \u001b[0;32mIn[3], line 23\u001b[0m, in \u001b[0;36mplot_lidar\u001b[0;34m(ranges)\u001b[0m\n\u001b[1;32m     21\u001b[0m y \u001b[38;5;241m=\u001b[39m np\u001b[38;5;241m.\u001b[39mcos(angles) \u001b[38;5;241m*\u001b[39m ranges\n\u001b[1;32m     22\u001b[0m plt\u001b[38;5;241m.\u001b[39mfigure(figsize\u001b[38;5;241m=\u001b[39m(\u001b[38;5;241m6\u001b[39m, \u001b[38;5;241m6\u001b[39m))\n\u001b[0;32m---> 23\u001b[0m \u001b[43mplt\u001b[49m\u001b[38;5;241;43m.\u001b[39;49m\u001b[43mplot\u001b[49m\u001b[43m(\u001b[49m\u001b[43mx\u001b[49m\u001b[43m,\u001b[49m\u001b[43m \u001b[49m\u001b[43my\u001b[49m\u001b[43m,\u001b[49m\u001b[43m \u001b[49m\u001b[38;5;124;43m'\u001b[39;49m\u001b[38;5;124;43m.\u001b[39;49m\u001b[38;5;124;43m'\u001b[39;49m\u001b[43m)\u001b[49m\n\u001b[1;32m     24\u001b[0m plt\u001b[38;5;241m.\u001b[39mxlim(\u001b[38;5;241m-\u001b[39m\u001b[38;5;241m10\u001b[39m, \u001b[38;5;241m10\u001b[39m)\n\u001b[1;32m     25\u001b[0m plt\u001b[38;5;241m.\u001b[39mylim(\u001b[38;5;241m-\u001b[39m\u001b[38;5;241m10\u001b[39m, \u001b[38;5;241m10\u001b[39m)\n",
      "File \u001b[0;32m/usr/local/lib/python3.8/dist-packages/matplotlib/pyplot.py:2812\u001b[0m, in \u001b[0;36mplot\u001b[0;34m(scalex, scaley, data, *args, **kwargs)\u001b[0m\n\u001b[1;32m   2810\u001b[0m \u001b[38;5;129m@_copy_docstring_and_deprecators\u001b[39m(Axes\u001b[38;5;241m.\u001b[39mplot)\n\u001b[1;32m   2811\u001b[0m \u001b[38;5;28;01mdef\u001b[39;00m \u001b[38;5;21mplot\u001b[39m(\u001b[38;5;241m*\u001b[39margs, scalex\u001b[38;5;241m=\u001b[39m\u001b[38;5;28;01mTrue\u001b[39;00m, scaley\u001b[38;5;241m=\u001b[39m\u001b[38;5;28;01mTrue\u001b[39;00m, data\u001b[38;5;241m=\u001b[39m\u001b[38;5;28;01mNone\u001b[39;00m, \u001b[38;5;241m*\u001b[39m\u001b[38;5;241m*\u001b[39mkwargs):\n\u001b[0;32m-> 2812\u001b[0m     \u001b[38;5;28;01mreturn\u001b[39;00m \u001b[43mgca\u001b[49m\u001b[43m(\u001b[49m\u001b[43m)\u001b[49m\u001b[38;5;241m.\u001b[39mplot(\n\u001b[1;32m   2813\u001b[0m         \u001b[38;5;241m*\u001b[39margs, scalex\u001b[38;5;241m=\u001b[39mscalex, scaley\u001b[38;5;241m=\u001b[39mscaley,\n\u001b[1;32m   2814\u001b[0m         \u001b[38;5;241m*\u001b[39m\u001b[38;5;241m*\u001b[39m({\u001b[38;5;124m\"\u001b[39m\u001b[38;5;124mdata\u001b[39m\u001b[38;5;124m\"\u001b[39m: data} \u001b[38;5;28;01mif\u001b[39;00m data \u001b[38;5;129;01mis\u001b[39;00m \u001b[38;5;129;01mnot\u001b[39;00m \u001b[38;5;28;01mNone\u001b[39;00m \u001b[38;5;28;01melse\u001b[39;00m {}), \u001b[38;5;241m*\u001b[39m\u001b[38;5;241m*\u001b[39mkwargs)\n",
      "File \u001b[0;32m/usr/local/lib/python3.8/dist-packages/matplotlib/pyplot.py:2309\u001b[0m, in \u001b[0;36mgca\u001b[0;34m()\u001b[0m\n\u001b[1;32m   2307\u001b[0m \u001b[38;5;129m@_copy_docstring_and_deprecators\u001b[39m(Figure\u001b[38;5;241m.\u001b[39mgca)\n\u001b[1;32m   2308\u001b[0m \u001b[38;5;28;01mdef\u001b[39;00m \u001b[38;5;21mgca\u001b[39m():\n\u001b[0;32m-> 2309\u001b[0m     \u001b[38;5;28;01mreturn\u001b[39;00m \u001b[43mgcf\u001b[49m\u001b[43m(\u001b[49m\u001b[43m)\u001b[49m\u001b[38;5;241;43m.\u001b[39;49m\u001b[43mgca\u001b[49m\u001b[43m(\u001b[49m\u001b[43m)\u001b[49m\n",
      "File \u001b[0;32m/usr/local/lib/python3.8/dist-packages/matplotlib/figure.py:1660\u001b[0m, in \u001b[0;36mFigureBase.gca\u001b[0;34m(self)\u001b[0m\n\u001b[1;32m   1650\u001b[0m \u001b[38;5;250m\u001b[39m\u001b[38;5;124;03m\"\"\"\u001b[39;00m\n\u001b[1;32m   1651\u001b[0m \u001b[38;5;124;03mGet the current Axes.\u001b[39;00m\n\u001b[1;32m   1652\u001b[0m \n\u001b[0;32m   (...)\u001b[0m\n\u001b[1;32m   1657\u001b[0m \u001b[38;5;124;03mwhether `.pyplot.get_fignums()` is empty.)\u001b[39;00m\n\u001b[1;32m   1658\u001b[0m \u001b[38;5;124;03m\"\"\"\u001b[39;00m\n\u001b[1;32m   1659\u001b[0m ax \u001b[38;5;241m=\u001b[39m \u001b[38;5;28mself\u001b[39m\u001b[38;5;241m.\u001b[39m_axstack\u001b[38;5;241m.\u001b[39mcurrent()\n\u001b[0;32m-> 1660\u001b[0m \u001b[38;5;28;01mreturn\u001b[39;00m ax \u001b[38;5;28;01mif\u001b[39;00m ax \u001b[38;5;129;01mis\u001b[39;00m \u001b[38;5;129;01mnot\u001b[39;00m \u001b[38;5;28;01mNone\u001b[39;00m \u001b[38;5;28;01melse\u001b[39;00m \u001b[38;5;28;43mself\u001b[39;49m\u001b[38;5;241;43m.\u001b[39;49m\u001b[43madd_subplot\u001b[49m\u001b[43m(\u001b[49m\u001b[43m)\u001b[49m\n",
      "File \u001b[0;32m/usr/local/lib/python3.8/dist-packages/matplotlib/figure.py:768\u001b[0m, in \u001b[0;36mFigureBase.add_subplot\u001b[0;34m(self, *args, **kwargs)\u001b[0m\n\u001b[1;32m    765\u001b[0m         args \u001b[38;5;241m=\u001b[39m \u001b[38;5;28mtuple\u001b[39m(\u001b[38;5;28mmap\u001b[39m(\u001b[38;5;28mint\u001b[39m, \u001b[38;5;28mstr\u001b[39m(args[\u001b[38;5;241m0\u001b[39m])))\n\u001b[1;32m    766\u001b[0m     projection_class, pkw \u001b[38;5;241m=\u001b[39m \u001b[38;5;28mself\u001b[39m\u001b[38;5;241m.\u001b[39m_process_projection_requirements(\n\u001b[1;32m    767\u001b[0m         \u001b[38;5;241m*\u001b[39margs, \u001b[38;5;241m*\u001b[39m\u001b[38;5;241m*\u001b[39mkwargs)\n\u001b[0;32m--> 768\u001b[0m     ax \u001b[38;5;241m=\u001b[39m \u001b[43mprojection_class\u001b[49m\u001b[43m(\u001b[49m\u001b[38;5;28;43mself\u001b[39;49m\u001b[43m,\u001b[49m\u001b[43m \u001b[49m\u001b[38;5;241;43m*\u001b[39;49m\u001b[43margs\u001b[49m\u001b[43m,\u001b[49m\u001b[43m \u001b[49m\u001b[38;5;241;43m*\u001b[39;49m\u001b[38;5;241;43m*\u001b[39;49m\u001b[43mpkw\u001b[49m\u001b[43m)\u001b[49m\n\u001b[1;32m    769\u001b[0m     key \u001b[38;5;241m=\u001b[39m (projection_class, pkw)\n\u001b[1;32m    770\u001b[0m \u001b[38;5;28;01mreturn\u001b[39;00m \u001b[38;5;28mself\u001b[39m\u001b[38;5;241m.\u001b[39m_add_axes_internal(ax, key)\n",
      "File \u001b[0;32m/usr/local/lib/python3.8/dist-packages/matplotlib/axes/_base.py:661\u001b[0m, in \u001b[0;36m_AxesBase.__init__\u001b[0;34m(self, fig, facecolor, frameon, sharex, sharey, label, xscale, yscale, box_aspect, *args, **kwargs)\u001b[0m\n\u001b[1;32m    657\u001b[0m \u001b[38;5;66;03m# The subplotspec needs to be set after the figure (so that\u001b[39;00m\n\u001b[1;32m    658\u001b[0m \u001b[38;5;66;03m# figure-level subplotpars are taken into account), but the figure\u001b[39;00m\n\u001b[1;32m    659\u001b[0m \u001b[38;5;66;03m# needs to be set after self._position is initialized.\u001b[39;00m\n\u001b[1;32m    660\u001b[0m \u001b[38;5;28;01mif\u001b[39;00m subplotspec:\n\u001b[0;32m--> 661\u001b[0m     \u001b[38;5;28;43mself\u001b[39;49m\u001b[38;5;241;43m.\u001b[39;49m\u001b[43mset_subplotspec\u001b[49m\u001b[43m(\u001b[49m\u001b[43msubplotspec\u001b[49m\u001b[43m)\u001b[49m\n\u001b[1;32m    662\u001b[0m \u001b[38;5;28;01melse\u001b[39;00m:\n\u001b[1;32m    663\u001b[0m     \u001b[38;5;28mself\u001b[39m\u001b[38;5;241m.\u001b[39m_subplotspec \u001b[38;5;241m=\u001b[39m \u001b[38;5;28;01mNone\u001b[39;00m\n",
      "File \u001b[0;32m/usr/local/lib/python3.8/dist-packages/matplotlib/axes/_base.py:793\u001b[0m, in \u001b[0;36m_AxesBase.set_subplotspec\u001b[0;34m(self, subplotspec)\u001b[0m\n\u001b[1;32m    791\u001b[0m \u001b[38;5;250m\u001b[39m\u001b[38;5;124;03m\"\"\"Set the `.SubplotSpec`. associated with the subplot.\"\"\"\u001b[39;00m\n\u001b[1;32m    792\u001b[0m \u001b[38;5;28mself\u001b[39m\u001b[38;5;241m.\u001b[39m_subplotspec \u001b[38;5;241m=\u001b[39m subplotspec\n\u001b[0;32m--> 793\u001b[0m \u001b[38;5;28mself\u001b[39m\u001b[38;5;241m.\u001b[39m_set_position(\u001b[43msubplotspec\u001b[49m\u001b[38;5;241;43m.\u001b[39;49m\u001b[43mget_position\u001b[49m\u001b[43m(\u001b[49m\u001b[38;5;28;43mself\u001b[39;49m\u001b[38;5;241;43m.\u001b[39;49m\u001b[43mfigure\u001b[49m\u001b[43m)\u001b[49m)\n",
      "File \u001b[0;32m/usr/local/lib/python3.8/dist-packages/matplotlib/gridspec.py:665\u001b[0m, in \u001b[0;36mSubplotSpec.get_position\u001b[0;34m(self, figure)\u001b[0m\n\u001b[1;32m    663\u001b[0m gridspec \u001b[38;5;241m=\u001b[39m \u001b[38;5;28mself\u001b[39m\u001b[38;5;241m.\u001b[39mget_gridspec()\n\u001b[1;32m    664\u001b[0m nrows, ncols \u001b[38;5;241m=\u001b[39m gridspec\u001b[38;5;241m.\u001b[39mget_geometry()\n\u001b[0;32m--> 665\u001b[0m rows, cols \u001b[38;5;241m=\u001b[39m \u001b[43mnp\u001b[49m\u001b[38;5;241;43m.\u001b[39;49m\u001b[43munravel_index\u001b[49m\u001b[43m(\u001b[49m\u001b[43m[\u001b[49m\u001b[38;5;28;43mself\u001b[39;49m\u001b[38;5;241;43m.\u001b[39;49m\u001b[43mnum1\u001b[49m\u001b[43m,\u001b[49m\u001b[43m \u001b[49m\u001b[38;5;28;43mself\u001b[39;49m\u001b[38;5;241;43m.\u001b[39;49m\u001b[43mnum2\u001b[49m\u001b[43m]\u001b[49m\u001b[43m,\u001b[49m\u001b[43m \u001b[49m\u001b[43m(\u001b[49m\u001b[43mnrows\u001b[49m\u001b[43m,\u001b[49m\u001b[43m \u001b[49m\u001b[43mncols\u001b[49m\u001b[43m)\u001b[49m\u001b[43m)\u001b[49m\n\u001b[1;32m    666\u001b[0m fig_bottoms, fig_tops, fig_lefts, fig_rights \u001b[38;5;241m=\u001b[39m \\\n\u001b[1;32m    667\u001b[0m     gridspec\u001b[38;5;241m.\u001b[39mget_grid_positions(figure)\n\u001b[1;32m    669\u001b[0m fig_bottom \u001b[38;5;241m=\u001b[39m fig_bottoms[rows]\u001b[38;5;241m.\u001b[39mmin()\n",
      "File \u001b[0;32m<__array_function__ internals>:200\u001b[0m, in \u001b[0;36munravel_index\u001b[0;34m(*args, **kwargs)\u001b[0m\n",
      "\u001b[0;31mKeyboardInterrupt\u001b[0m: "
     ]
    },
    {
     "data": {
      "text/plain": [
       "<Figure size 600x600 with 0 Axes>"
      ]
     },
     "metadata": {},
     "output_type": "display_data"
    }
   ],
   "source": [
    "from IPython.display import display, clear_output\n",
    "import rospy\n",
    "from sensor_msgs.msg import LaserScan\n",
    "\n",
    "# Initialize ROS node (if not already initialized)\n",
    "if not rospy.get_node_uri():\n",
    "    rospy.init_node('rplidar_test_node', anonymous=True)\n",
    "\n",
    "# Callback function to process data\n",
    "def lidar_callback(data):\n",
    "    global lidar_ranges\n",
    "    lidar_ranges = np.array(data.ranges)\n",
    "\n",
    "# Subscriber object\n",
    "lidar_subscriber = rospy.Subscriber('/scan', LaserScan, lidar_callback)\n",
    "\n",
    "# Function to plot LiDAR data\n",
    "def plot_lidar(ranges):\n",
    "    angles = np.linspace(0, 2 * np.pi, len(ranges))\n",
    "    x = np.sin(angles) * ranges\n",
    "    y = np.cos(angles) * ranges\n",
    "    plt.figure(figsize=(6, 6))\n",
    "    plt.plot(x, y, '.')\n",
    "    plt.xlim(-10, 10)\n",
    "    plt.ylim(-10, 10)\n",
    "    plt.xlabel('X distance (m)')\n",
    "    plt.ylabel('Y distance (m)')\n",
    "    plt.title('LiDAR data visualization')\n",
    "    plt.grid(True)\n",
    "    plt.show()\n",
    "\n",
    "# Function to update the plot\n",
    "def update_lidar_plot():\n",
    "    rate = rospy.Rate(0.5)  # Update rate: 0.5Hz (2 seconds)\n",
    "    while not rospy.is_shutdown():\n",
    "        if len(lidar_ranges) > 0:  # Check if lidar_ranges is not empty by its length\n",
    "            clear_output(wait=True)  # Clear the previous plot\n",
    "            plot_lidar(lidar_ranges)  # Plot the latest LiDAR data\n",
    "            rate.sleep()  # Sleep for 2 seconds (or until a new message is received)\n",
    "\n",
    "# Call the function to start updating the plot\n",
    "update_lidar_plot()\n",
    "\n"
   ]
  },
  {
   "cell_type": "code",
   "execution_count": null,
   "id": "ed9d6f2e-bfad-46d3-9151-f871e1289b47",
   "metadata": {},
   "outputs": [],
   "source": []
  }
 ],
 "metadata": {
  "kernelspec": {
   "display_name": "Python 3 (ipykernel)",
   "language": "python",
   "name": "python3"
  },
  "language_info": {
   "codemirror_mode": {
    "name": "ipython",
    "version": 3
   },
   "file_extension": ".py",
   "mimetype": "text/x-python",
   "name": "python",
   "nbconvert_exporter": "python",
   "pygments_lexer": "ipython3",
   "version": "3.8.10"
  }
 },
 "nbformat": 4,
 "nbformat_minor": 5
}
