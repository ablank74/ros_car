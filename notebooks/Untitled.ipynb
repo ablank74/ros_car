{
 "cells": [
  {
   "cell_type": "code",
   "execution_count": 1,
   "id": "0c465cd7-47e3-45ee-82c1-69bd6b2355d3",
   "metadata": {},
   "outputs": [
    {
     "name": "stdout",
     "output_type": "stream",
     "text": [
      "Collecting pyserial\n",
      "  Downloading pyserial-3.5-py2.py3-none-any.whl (90 kB)\n",
      "\u001b[K     |████████████████████████████████| 90 kB 2.7 MB/s eta 0:00:011\n",
      "\u001b[?25hInstalling collected packages: pyserial\n",
      "Successfully installed pyserial-3.5\n"
     ]
    }
   ],
   "source": [
    "!pip install pyserial\n"
   ]
  },
  {
   "cell_type": "code",
   "execution_count": 2,
   "id": "011fc55f-868f-46a5-8a86-5dabb5141ec8",
   "metadata": {},
   "outputs": [
    {
     "name": "stdout",
     "output_type": "stream",
     "text": [
      "Collecting rplidar\n",
      "  Downloading rplidar-0.9.2.tar.gz (5.4 kB)\n",
      "Requirement already satisfied: pyserial in /usr/local/lib/python3.8/dist-packages (from rplidar) (3.5)\n",
      "Building wheels for collected packages: rplidar\n",
      "  Building wheel for rplidar (setup.py) ... \u001b[?25ldone\n",
      "\u001b[?25h  Created wheel for rplidar: filename=rplidar-0.9.2-py3-none-any.whl size=5411 sha256=b334d3d07ae59dbef5686144892e60d2e03aa04a70d770a22a2e83d4b068996d\n",
      "  Stored in directory: /root/.cache/pip/wheels/4f/0a/89/13ec773651e3a2a93f674cd51e6a4535ae8fc3966d4d234721\n",
      "Successfully built rplidar\n",
      "Installing collected packages: rplidar\n",
      "Successfully installed rplidar-0.9.2\n"
     ]
    }
   ],
   "source": [
    "!pip install rplidar\n"
   ]
  },
  {
   "cell_type": "code",
   "execution_count": 5,
   "id": "271a7bcd-722d-41d2-8061-16f57c60615b",
   "metadata": {},
   "outputs": [
    {
     "name": "stdout",
     "output_type": "stream",
     "text": [
      "Starting RPLIDAR...\n",
      "An error occurred: Wrong body size\n"
     ]
    }
   ],
   "source": [
    "from rplidar import RPLidar\n",
    "\n",
    "# Replace 'COM3' with your RPLIDAR's port (e.g., '/dev/ttyUSB0' on Linux)\n",
    "PORT_NAME = '/dev/ttyUSB0'\n",
    "\n",
    "def check_rplidar():\n",
    "    lidar = RPLidar(PORT_NAME)\n",
    "\n",
    "    try:\n",
    "        print('Starting RPLIDAR...')\n",
    "        lidar.start_motor()\n",
    "        for scan in lidar.iter_scans():\n",
    "            print(scan)\n",
    "            break\n",
    "    except Exception as e:\n",
    "        print(f'An error occurred: {e}')\n",
    "    finally:\n",
    "        lidar.stop()\n",
    "        lidar.stop_motor()\n",
    "        lidar.disconnect()\n",
    "\n",
    "check_rplidar()\n"
   ]
  },
  {
   "cell_type": "code",
   "execution_count": null,
   "id": "47bda1e3-32e7-4c5a-b7a1-cd0e21f6b6e4",
   "metadata": {},
   "outputs": [],
   "source": []
  }
 ],
 "metadata": {
  "kernelspec": {
   "display_name": "Python 3 (ipykernel)",
   "language": "python",
   "name": "python3"
  },
  "language_info": {
   "codemirror_mode": {
    "name": "ipython",
    "version": 3
   },
   "file_extension": ".py",
   "mimetype": "text/x-python",
   "name": "python",
   "nbconvert_exporter": "python",
   "pygments_lexer": "ipython3",
   "version": "3.8.10"
  }
 },
 "nbformat": 4,
 "nbformat_minor": 5
}
